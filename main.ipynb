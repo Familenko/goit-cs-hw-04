{
 "cells": [
  {
   "cell_type": "markdown",
   "metadata": {},
   "source": [
    "# 1. Реалізація багатопотокового підходу до обробки файлів "
   ]
  },
  {
   "cell_type": "code",
   "execution_count": 1,
   "metadata": {},
   "outputs": [
    {
     "name": "stdout",
     "output_type": "stream",
     "text": [
      "{'bilders': ['data/file_333.txt', 'data/file_345.txt', 'data/file_377.txt', 'data/file_751.txt', 'data/file_793.txt', 'data/file_975.txt', 'data/file_703.txt', 'data/file_8.txt'], 'raciality': ['data/file_592.txt', 'data/file_130.txt', 'data/file_181.txt']}\n",
      "Time taken: 0.04947996139526367\n"
     ]
    }
   ],
   "source": [
    "! python thread.py"
   ]
  },
  {
   "cell_type": "markdown",
   "metadata": {},
   "source": [
    "# 2. Реалізація багатопроцесорного підходу до обробки файлів "
   ]
  },
  {
   "cell_type": "code",
   "execution_count": 2,
   "metadata": {},
   "outputs": [
    {
     "name": "stdout",
     "output_type": "stream",
     "text": [
      "{'bilders': ['data/file_8.txt', 'data/file_751.txt', 'data/file_793.txt', 'data/file_975.txt', 'data/file_703.txt', 'data/file_333.txt', 'data/file_345.txt', 'data/file_377.txt'], 'raciality': ['data/file_130.txt', 'data/file_181.txt', 'data/file_592.txt']}\n",
      "Time taken: 0.11089897155761719\n"
     ]
    }
   ],
   "source": [
    "! python process.py"
   ]
  }
 ],
 "metadata": {
  "kernelspec": {
   "display_name": "venv",
   "language": "python",
   "name": "python3"
  },
  "language_info": {
   "codemirror_mode": {
    "name": "ipython",
    "version": 3
   },
   "file_extension": ".py",
   "mimetype": "text/x-python",
   "name": "python",
   "nbconvert_exporter": "python",
   "pygments_lexer": "ipython3",
   "version": "3.11.3"
  }
 },
 "nbformat": 4,
 "nbformat_minor": 2
}
