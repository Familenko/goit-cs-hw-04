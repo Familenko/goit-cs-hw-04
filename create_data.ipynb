{
 "cells": [
  {
   "cell_type": "code",
   "execution_count": 1,
   "metadata": {},
   "outputs": [
    {
     "name": "stderr",
     "output_type": "stream",
     "text": [
      "[nltk_data] Downloading package words to\n",
      "[nltk_data]     /Users/aleksejkitajskij/nltk_data...\n",
      "[nltk_data]   Package words is already up-to-date!\n"
     ]
    },
    {
     "data": {
      "text/plain": [
       "236736"
      ]
     },
     "execution_count": 1,
     "metadata": {},
     "output_type": "execute_result"
    }
   ],
   "source": [
    "import nltk\n",
    "nltk.download('words')\n",
    "from nltk.corpus import words\n",
    "\n",
    "\n",
    "english_words = words.words()\n",
    "len(english_words)"
   ]
  },
  {
   "cell_type": "code",
   "execution_count": 2,
   "metadata": {},
   "outputs": [
    {
     "name": "stdout",
     "output_type": "stream",
     "text": [
      "['eyebar', 'envault', 'Discoideae', 'Elaphomycetaceae', 'sublunar', 'soothful', 'hypnoetic', 'oilery', 'unamply', 'defect', 'plerocercoid', 'nonprolific', 'subattenuated', 'siphuncled', 'hemoglobinophilic', 'dearness', 'hyperpatriotic', 'stratify', 'clanned', 'micropipette', 'fadridden', 'metacarpophalangeal', 'Meredithian', 'decidua', 'zoarium', 'transpose', 'urinometry', 'geoselenic', 'palateful', 'exercise', 'anarchism', 'nakedish', 'secundiflorous', 'Gileadite', 'Anglicize', 'spermatism', 'principalship', 'cobcab', 'marver', 'nonwalking', 'vocationally', 'tempestuously', 'ochlocratic', 'Docetism', 'Pavonia', 'lenticulostriate', 'testatrix', 'secohmmeter', 'nonstatement', 'discontinuousness', 'phlebography', 'downdraft', 'unary', 'gestural', 'counterindentation', 'iodotannic', 'skag', 'pendent', 'Moabite', 'espionage', 'carminite', 'hybridal', 'semiliquid', 'satyrism', 'batwing', 'pachypleuritic', 'brachialis', 'ferrihydrocyanic', 'gantsl', 'disulphuric', 'studio', 'Mohrodendron', 'reactualization', 'paraform', 'mimicker', 'calciphobous', 'pyromagnetic', 'replicate', 'keyseater', 'twelvepenny', 'anatoxin', 'hypoactive', 'unmodifiably', 'unexcogitable', 'Ribandist', 'verbify', 'endothecal', 'eurythmics', 'Nepal', 'hierarchic', 'funambulator', 'unificator', 'pearlberry', 'psychobiotic', 'planetologic', 'meningitis', 'fowl', 'catapultic', 'sotnia', 'juggle']\n"
     ]
    }
   ],
   "source": [
    "import random\n",
    "\n",
    "\n",
    "words = [word for word in random.choices(list(english_words), k=100)]\n",
    "print(words)"
   ]
  },
  {
   "cell_type": "code",
   "execution_count": 3,
   "metadata": {},
   "outputs": [],
   "source": [
    "import os\n",
    "\n",
    "\n",
    "if not os.path.exists(\"data\"):\n",
    "    os.makedirs(\"data\")\n",
    "\n",
    "for i in range(1, 1001):\n",
    "    words = [word for word in random.choices(list(english_words), k=1000)]\n",
    "\n",
    "    file_path = f\"data/file_{i}.txt\"\n",
    "\n",
    "    with open(file_path, \"w\") as file:\n",
    "        file.write(\" \".join(words))"
   ]
  }
 ],
 "metadata": {
  "kernelspec": {
   "display_name": "Python 3",
   "language": "python",
   "name": "python3"
  },
  "language_info": {
   "codemirror_mode": {
    "name": "ipython",
    "version": 3
   },
   "file_extension": ".py",
   "mimetype": "text/x-python",
   "name": "python",
   "nbconvert_exporter": "python",
   "pygments_lexer": "ipython3",
   "version": "3.11.3"
  }
 },
 "nbformat": 4,
 "nbformat_minor": 2
}
