{
 "cells": [
  {
   "cell_type": "code",
   "execution_count": 2,
   "metadata": {},
   "outputs": [
    {
     "name": "stderr",
     "output_type": "stream",
     "text": [
      "[nltk_data] Downloading package words to\n",
      "[nltk_data]     /Users/aleksejkitajskij/nltk_data...\n",
      "[nltk_data]   Package words is already up-to-date!\n"
     ]
    },
    {
     "data": {
      "text/plain": [
       "236736"
      ]
     },
     "execution_count": 2,
     "metadata": {},
     "output_type": "execute_result"
    }
   ],
   "source": [
    "import nltk\n",
    "nltk.download('words')\n",
    "from nltk.corpus import words\n",
    "\n",
    "\n",
    "english_words = words.words()\n",
    "len(english_words)"
   ]
  },
  {
   "cell_type": "code",
   "execution_count": 3,
   "metadata": {},
   "outputs": [
    {
     "name": "stdout",
     "output_type": "stream",
     "text": [
      "['exploit', 'bonewood', 'Trisetum', 'caulome', 'progressionist', 'fictionalize', 'foveolet', 'supralegal', 'lamely', 'revisership', 'ethoxide', 'unfilling', 'unbaffling', 'letterless', 'then', 'Indonesian', 'bowmaking', 'Cymodoceaceae', 'microfluidal', 'steapsin', 'parolee', 'accompanyist', 'Nembutal', 'drinker', 'Susianian', 'matter', 'slaglessness', 'schapped', 'azygomatous', 'unpalpitating', 'subordinating', 'somaticosplanchnic', 'Sanjay', 'unbrookably', 'the', 'chiseled', 'premold', 'wattlebird', 'Malay', 'paravent', 'middlemanship', 'Coelococcus', 'q', 'finitive', 'overidly', 'milch', 'tricae', 'counterparole', 'ophthalmic', 'laryngocele', 'za', 'pedantocracy', 'agapetae', 'raphania', 'Centunculus', 'scrutinizer', 'discerptibleness', 'prototraitor', 'determination', 'internality', 'equatorward', 'quinqueseriate', 'microtome', 'auriculoparietal', 'academist', 'syphilize', 'corbiculum', 'stillatitious', 'partitively', 'tropicalize', 'bedsore', 'antitank', 'effeminize', 'Coix', 'semifinish', 'mattaro', 'unhooked', 'cashcuttee', 'zoopathology', 'cetin', 'incapsulation', 'prologuist', 'nibber', 'labrose', 'mechoacan', 'Cytinus', 'boatsman', 'totemist', 'degradand', 'Hectorian', 'anaclitic', 'cupped', 'tumultuation', 'pharyngemphraxis', 'giantesque', 'emesis', 'protomartyr', 'alliteratively', 'baselessness', 'underfeathering']\n"
     ]
    }
   ],
   "source": [
    "import random\n",
    "\n",
    "\n",
    "words = [word for word in random.choices(list(english_words), k=100)]\n",
    "print(words)"
   ]
  },
  {
   "cell_type": "code",
   "execution_count": 4,
   "metadata": {},
   "outputs": [],
   "source": [
    "import os\n",
    "\n",
    "\n",
    "if not os.path.exists(\"data\"):\n",
    "    os.makedirs(\"data\")\n",
    "\n",
    "for i in range(1, 1001):\n",
    "    words = [word for word in random.choices(list(english_words), k=1000)]\n",
    "\n",
    "    file_path = f\"data/file_{i}.txt\"\n",
    "\n",
    "    with open(file_path, \"w\") as file:\n",
    "        file.write(\" \".join(words))"
   ]
  }
 ],
 "metadata": {
  "kernelspec": {
   "display_name": "Python 3",
   "language": "python",
   "name": "python3"
  },
  "language_info": {
   "codemirror_mode": {
    "name": "ipython",
    "version": 3
   },
   "file_extension": ".py",
   "mimetype": "text/x-python",
   "name": "python",
   "nbconvert_exporter": "python",
   "pygments_lexer": "ipython3",
   "version": "3.11.3"
  }
 },
 "nbformat": 4,
 "nbformat_minor": 2
}
